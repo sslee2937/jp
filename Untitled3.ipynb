{
 "cells": [
  {
   "cell_type": "markdown",
   "metadata": {},
   "source": [
    "# 조건문 반복문\n",
    "## lab 1"
   ]
  },
  {
   "cell_type": "code",
   "execution_count": 1,
   "metadata": {},
   "outputs": [],
   "source": [
    "import random"
   ]
  },
  {
   "cell_type": "code",
   "execution_count": 3,
   "metadata": {},
   "outputs": [
    {
     "name": "stdout",
     "output_type": "stream",
     "text": [
      "숫자를 맞춰보세요 (1~100)\n",
      "70\n",
      "숫자가 너무 큽니다.\n",
      "50\n",
      "숫자가 너무 큽니다.\n",
      "30\n",
      "숫자가 너무 큽니다.\n",
      "20\n",
      "숫자가 너무 작습니다.\n",
      "24\n",
      "숫자가 너무 큽니다.\n",
      "22\n",
      "숫자가 너무 큽니다.\n",
      "21\n",
      "정답입니다.  입력한 숫자는 21 입니다.\n"
     ]
    }
   ],
   "source": [
    "guess_number = random.randint(1, 100)\n",
    "print(\"숫자를 맞춰보세요 (1~100)\")\n",
    "users_input = int(input())\n",
    "while (users_input != guess_number):\n",
    "    if users_input > guess_number :\n",
    "        print(\"숫자가 너무 큽니다.\")\n",
    "    else:\n",
    "        print(\"숫자가 너무 작습니다.\")\n",
    "    users_input = int(input())\n",
    "\n",
    "else:\n",
    "    print(\"정답입니다. \", \"입력한 숫자는\", users_input, \"입니다.\")"
   ]
  },
  {
   "cell_type": "code",
   "execution_count": null,
   "metadata": {},
   "outputs": [
    {
     "name": "stdout",
     "output_type": "stream",
     "text": [
      "구구단 몇 단을 계산할까요(1~9)\n",
      "1\n",
      "구구단 1단을 계산합니다.\n",
      "1X1=1\n",
      "1X2=2\n",
      "1X3=3\n",
      "1X4=4\n",
      "1X5=5\n",
      "1X6=6\n",
      "1X7=7\n",
      "1X8=8\n",
      "1X9=9\n",
      "구구단 몇 단을 계산할까요(1~9)\n",
      "2\n",
      "구구단 2단을 계산합니다.\n",
      "2X1=2\n",
      "2X2=4\n",
      "2X3=6\n",
      "2X4=8\n",
      "2X5=10\n",
      "2X6=12\n",
      "2X7=14\n",
      "2X8=16\n",
      "2X9=18\n",
      "구구단 몇 단을 계산할까요(1~9)\n",
      "4\n",
      "구구단 4단을 계산합니다.\n",
      "4X1=4\n",
      "4X2=8\n",
      "4X3=12\n",
      "4X4=16\n",
      "4X5=20\n",
      "4X6=24\n",
      "4X7=28\n",
      "4X8=32\n",
      "4X9=36\n",
      "구구단 몇 단을 계산할까요(1~9)\n",
      "5\n",
      "구구단 5단을 계산합니다.\n",
      "5X1=5\n",
      "5X2=10\n",
      "5X3=15\n",
      "5X4=20\n",
      "5X5=25\n",
      "5X6=30\n",
      "5X7=35\n",
      "5X8=40\n",
      "5X9=45\n",
      "구구단 몇 단을 계산할까요(1~9)\n",
      "10\n",
      "잘못 입력하셨습니다. 1부터 9사이 숫자를 입력해주세요\n"
     ]
    }
   ],
   "source": [
    "print(\"구구단 몇 단을 계산할까요(1~9)\")\n",
    "x = 1\n",
    "while (x is not 0):\n",
    "    x =int(input())\n",
    "    if x == 0: continue\n",
    "    if not(1 <= x <= 9):\n",
    "        print(\"잘못 입력하셨습니다.\",\n",
    "             \"1부터 9사이 숫자를 입력해주세요\")\n",
    "        continue\n",
    "    else:\n",
    "        print (\"구구단 \" + str(x)+ \"단을 계산합니다.\")\n",
    "        for i in range(1, 10):\n",
    "            print(str(x) + \"X\" + str(i) + \"=\" + str(x*i))\n",
    "        print(\"구구단 몇 단을 계산할까요(1~9)\")\n",
    "        \n",
    "print(\"구구단 게임을 종료합니다.\")"
   ]
  },
  {
   "cell_type": "code",
   "execution_count": null,
   "metadata": {},
   "outputs": [],
   "source": []
  }
 ],
 "metadata": {
  "kernelspec": {
   "display_name": "Python 3",
   "language": "python",
   "name": "python3"
  }
 },
 "nbformat": 4,
 "nbformat_minor": 2
}
