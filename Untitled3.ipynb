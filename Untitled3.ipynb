{
 "cells": [
  {
   "cell_type": "markdown",
   "metadata": {},
   "source": [
    "# 조건문 반복문\n",
    "## lab 1"
   ]
  },
  {
   "cell_type": "code",
   "execution_count": 1,
   "metadata": {},
   "outputs": [],
   "source": [
    "import random"
   ]
  },
  {
   "cell_type": "code",
   "execution_count": 3,
   "metadata": {},
   "outputs": [
    {
     "name": "stdout",
     "output_type": "stream",
     "text": [
      "숫자를 맞춰보세요 (1~100)\n",
      "70\n",
      "숫자가 너무 큽니다.\n",
      "50\n",
      "숫자가 너무 큽니다.\n",
      "30\n",
      "숫자가 너무 큽니다.\n",
      "20\n",
      "숫자가 너무 작습니다.\n",
      "24\n",
      "숫자가 너무 큽니다.\n",
      "22\n",
      "숫자가 너무 큽니다.\n",
      "21\n",
      "정답입니다.  입력한 숫자는 21 입니다.\n"
     ]
    }
   ],
   "source": [
    "guess_number = random.randint(1, 100)\n",
    "print(\"숫자를 맞춰보세요 (1~100)\")\n",
    "users_input = int(input())\n",
    "while (users_input != guess_number):\n",
    "    if users_input > guess_number :\n",
    "        print(\"숫자가 너무 큽니다.\")\n",
    "    else:\n",
    "        print(\"숫자가 너무 작습니다.\")\n",
    "    users_input = int(input())\n",
    "\n",
    "else:\n",
    "    print(\"정답입니다. \", \"입력한 숫자는\", users_input, \"입니다.\")"
   ]
  },
  {
   "cell_type": "code",
   "execution_count": null,
   "metadata": {},
   "outputs": [
    {
     "name": "stdout",
     "output_type": "stream",
     "text": [
      "구구단 몇 단을 계산할까요(1~9)\n",
      "1\n",
      "구구단 1단을 계산합니다.\n",
      "1X1=1\n",
      "1X2=2\n",
      "1X3=3\n",
      "1X4=4\n",
      "1X5=5\n",
      "1X6=6\n",
      "1X7=7\n",
      "1X8=8\n",
      "1X9=9\n",
      "구구단 몇 단을 계산할까요(1~9)\n",
      "2\n",
      "구구단 2단을 계산합니다.\n",
      "2X1=2\n",
      "2X2=4\n",
      "2X3=6\n",
      "2X4=8\n",
      "2X5=10\n",
      "2X6=12\n",
      "2X7=14\n",
      "2X8=16\n",
      "2X9=18\n",
      "구구단 몇 단을 계산할까요(1~9)\n",
      "4\n",
      "구구단 4단을 계산합니다.\n",
      "4X1=4\n",
      "4X2=8\n",
      "4X3=12\n",
      "4X4=16\n",
      "4X5=20\n",
      "4X6=24\n",
      "4X7=28\n",
      "4X8=32\n",
      "4X9=36\n",
      "구구단 몇 단을 계산할까요(1~9)\n",
      "5\n",
      "구구단 5단을 계산합니다.\n",
      "5X1=5\n",
      "5X2=10\n",
      "5X3=15\n",
      "5X4=20\n",
      "5X5=25\n",
      "5X6=30\n",
      "5X7=35\n",
      "5X8=40\n",
      "5X9=45\n",
      "구구단 몇 단을 계산할까요(1~9)\n",
      "10\n",
      "잘못 입력하셨습니다. 1부터 9사이 숫자를 입력해주세요\n"
     ]
    }
   ],
   "source": [
    "print(\"구구단 몇 단을 계산할까요(1~9)\")\n",
    "x = 1\n",
    "\n",
    "while (x is not 0):##  while은 조건이 끝날때까지 루프 타기\n",
    "    x =int(input()) # x에 임의의 변수 받기\n",
    "    \n",
    "    if x == 0: continue ## x=0면 나가버리기\n",
    "    \n",
    "    if not(1 <= x <= 9): ## 0과 9사이의 숫자가 아니면 나가버리기\n",
    "        print(\"잘못 입력하셨습니다.\",\n",
    "             \"1부터 9사이 숫자를 입력해주세요\")\n",
    "        \n",
    "        continue\n",
    "    \n",
    "    else:# 위에 특별한 상황을 제외한 일반적인 경우\n",
    "        print (\"구구단 \" + str(x)+ \"단을 계산합니다.\")\n",
    "        for i in range(1, 10):\n",
    "            print(str(x) + \"X\" + str(i) + \"=\" + str(x*i))\n",
    "        print(\"구구단 몇 단을 계산할까요(1~9)\")\n",
    "        \n",
    "print(\"구구단 게임을 종료합니다.\")"
   ]
  },
  {
   "cell_type": "code",
   "execution_count": 7,
   "metadata": {},
   "outputs": [
    {
     "name": "stdout",
     "output_type": "stream",
     "text": [
      "구구단 몇 단을 계산할까요(1~9)\n",
      "1\n",
      "구구단 x단을 계산합니다.\n",
      "1 X 1 = 1\n",
      "구구단 x단을 계산합니다.\n",
      "1 X 2 = 2\n",
      "구구단 x단을 계산합니다.\n",
      "1 X 3 = 3\n",
      "구구단 x단을 계산합니다.\n",
      "1 X 4 = 4\n",
      "구구단 x단을 계산합니다.\n",
      "1 X 5 = 5\n",
      "구구단 x단을 계산합니다.\n",
      "1 X 6 = 6\n",
      "구구단 x단을 계산합니다.\n",
      "1 X 7 = 7\n",
      "구구단 x단을 계산합니다.\n",
      "1 X 8 = 8\n",
      "구구단 x단을 계산합니다.\n",
      "1 X 9 = 9\n",
      "구구단 몇 단을 계산할까요(1~9)\n",
      "5\n",
      "구구단 x단을 계산합니다.\n",
      "5 X 1 = 5\n",
      "구구단 x단을 계산합니다.\n",
      "5 X 2 = 10\n",
      "구구단 x단을 계산합니다.\n",
      "5 X 3 = 15\n",
      "구구단 x단을 계산합니다.\n",
      "5 X 4 = 20\n",
      "구구단 x단을 계산합니다.\n",
      "5 X 5 = 25\n",
      "구구단 x단을 계산합니다.\n",
      "5 X 6 = 30\n",
      "구구단 x단을 계산합니다.\n",
      "5 X 7 = 35\n",
      "구구단 x단을 계산합니다.\n",
      "5 X 8 = 40\n",
      "구구단 x단을 계산합니다.\n",
      "5 X 9 = 45\n",
      "구구단 몇 단을 계산할까요(1~9)\n",
      "10\n",
      "잘못 입력하셨습니다. 1부터 9사이 숫자를 입력해주세요\n",
      "구구단 몇 단을 계산할까요(1~9)\n",
      "0\n",
      "잘못 입력하셨습니다. 1부터 9사이 숫자를 입력해주세요\n",
      "구구단 게임을 종료합니다.\n"
     ]
    }
   ],
   "source": [
    "\n",
    "\n",
    "x = 1\n",
    "while(x is not 0):\n",
    "    print(\"구구단 몇 단을 계산할까요(1~9)\")\n",
    "    x = int(input())\n",
    "    \n",
    "    if(x < 1 or x > 9):\n",
    "        print('잘못 입력하셨습니다. 1부터 9사이 숫자를 입력해주세요')\n",
    "    else:\n",
    "        for i in range(1, 10):\n",
    "            print(\"구구단 x단을 계산합니다.\")\n",
    "            print(x,\"X\",i,\"=\",x*i)\n",
    "    \n",
    "\n",
    "print(\"구구단 게임을 종료합니다.\")"
   ]
  },
  {
   "cell_type": "code",
   "execution_count": 50,
   "metadata": {},
   "outputs": [],
   "source": [
    "kor_score =[49, 79, 20, 100, 80]\n",
    "math_score = [43, 59, 86, 30, 90]\n",
    "eng_score = [49, 79, 48, 60, 100]\n",
    "midterm_score = [kor_score, math_score, eng_score]\n",
    "student_score = [0, 0, 0, 0, 0]"
   ]
  },
  {
   "cell_type": "code",
   "execution_count": 51,
   "metadata": {},
   "outputs": [
    {
     "name": "stdout",
     "output_type": "stream",
     "text": [
      "[0, 0, 0, 0, 0] 49\n",
      "[49, 0, 0, 0, 0] 79\n",
      "[49, 79, 0, 0, 0] 20\n",
      "[49, 79, 20, 0, 0] 100\n",
      "[49, 79, 20, 100, 0] 80\n",
      "[49, 79, 20, 100, 80] 43\n",
      "[92, 79, 20, 100, 80] 59\n",
      "[92, 138, 20, 100, 80] 86\n",
      "[92, 138, 106, 100, 80] 30\n",
      "[92, 138, 106, 130, 80] 90\n",
      "[92, 138, 106, 130, 170] 49\n",
      "[141, 138, 106, 130, 170] 79\n",
      "[141, 217, 106, 130, 170] 48\n",
      "[141, 217, 154, 130, 170] 60\n",
      "[141, 217, 154, 190, 170] 100\n",
      "[47.0, 72.33333333333333, 51.333333333333336, 63.333333333333336, 90.0]\n"
     ]
    }
   ],
   "source": [
    "i = 0\n",
    "for subject in midterm_score:\n",
    "    for score in subject:\n",
    "        print(student_score, score)\n",
    "        student_score[i] += score\n",
    "        i += 1\n",
    "    i = 0\n",
    "\n",
    "a, b, c, d, e = student_score\n",
    "student_average = [a/3, b/3, c/3, d/3, e/3]\n",
    "print(student_average)\n",
    "        "
   ]
  },
  {
   "cell_type": "code",
   "execution_count": null,
   "metadata": {},
   "outputs": [],
   "source": []
  }
 ],
 "metadata": {
  "kernelspec": {
   "display_name": "Python 3",
   "language": "python",
   "name": "python3"
  },
  "language_info": {
   "codemirror_mode": {
    "name": "ipython",
    "version": 3
   },
   "file_extension": ".py",
   "mimetype": "text/x-python",
   "name": "python",
   "nbconvert_exporter": "python",
   "pygments_lexer": "ipython3",
   "version": "3.5.5"
  }
 },
 "nbformat": 4,
 "nbformat_minor": 2
}
